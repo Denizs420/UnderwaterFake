{
  "nbformat": 4,
  "nbformat_minor": 0,
  "metadata": {
    "colab": {
      "provenance": []
    },
    "kernelspec": {
      "name": "python3",
      "display_name": "Python 3"
    },
    "language_info": {
      "name": "python"
    }
  },
  "cells": [
    {
      "cell_type": "code",
      "execution_count": 1,
      "metadata": {
        "colab": {
          "base_uri": "https://localhost:8080/"
        },
        "id": "WRjWzAlL8642",
        "outputId": "fd02763d-a162-4faf-961f-9cf5181348ae"
      },
      "outputs": [
        {
          "output_type": "stream",
          "name": "stdout",
          "text": [
            "Output shape: torch.Size([2, 1, 30, 30])\n"
          ]
        }
      ],
      "source": [
        "import torch\n",
        "from torch import nn\n",
        "\n",
        "\n",
        "class Discriminator(nn.Module):\n",
        "    \"\"\"\n",
        "    Discrimination part of the model.\n",
        "    ...\n",
        "    Attributes\n",
        "    ----------\n",
        "    main: torch.nn.modules.container.Sequential\n",
        "        Model stack with all layers\n",
        "    fc: torch.nn.modules.linear.Linear\n",
        "        Fully-connected linear layer to classify embedding extracted from convolutions\n",
        "    flattener: torch.nn.modules.flatten.Flatten\n",
        "        Makes 4d tensor flat\n",
        "    sigmoid: torch.nn.Sigmoid\n",
        "        Applies sigmoid non-linearity on the output\n",
        "    ...\n",
        "    Methods\n",
        "    -------\n",
        "    forward:\n",
        "        Forward pass of a model\n",
        "    \"\"\"\n",
        "\n",
        "    def __init__(self,\n",
        "                 in_n_channels: int,\n",
        "                 hidden_n_channels: int):\n",
        "        super(Discriminator, self).__init__()\n",
        "        self.fc = nn.Linear(in_features=30 * 30,\n",
        "                            out_features=1)\n",
        "        self.flattener = nn.Flatten()\n",
        "        self.sigmoid = nn.Sigmoid()\n",
        "        # Input shape: bc * 3 * 256 * 256\n",
        "        self.main = nn.Sequential(*[\n",
        "            nn.Conv2d(in_channels=in_n_channels,\n",
        "                      out_channels=hidden_n_channels,\n",
        "                      kernel_size=4,\n",
        "                      stride=2,\n",
        "                      padding=1,\n",
        "                      ),\n",
        "            # shape: bc * hc * 128 * 128\n",
        "            nn.LeakyReLU(0.2, inplace=True),\n",
        "\n",
        "            nn.Conv2d(in_channels=hidden_n_channels,\n",
        "                      out_channels=2 * hidden_n_channels,\n",
        "                      kernel_size=4,\n",
        "                      stride=2,\n",
        "                      padding=1,\n",
        "                      ),\n",
        "            # shape: bc * 2hc * 64 * 64\n",
        "            nn.InstanceNorm2d(2 * hidden_n_channels),\n",
        "            nn.LeakyReLU(0.2, inplace=True),\n",
        "\n",
        "            nn.Conv2d(in_channels=2 * hidden_n_channels,\n",
        "                      out_channels=4 * hidden_n_channels,\n",
        "                      kernel_size=4,\n",
        "                      stride=2,\n",
        "                      padding=1,\n",
        "                      ),\n",
        "            # shape: bc * 4hc * 32 * 32\n",
        "            nn.InstanceNorm2d(4 * hidden_n_channels),\n",
        "            nn.LeakyReLU(0.2, inplace=True),\n",
        "\n",
        "            nn.Conv2d(in_channels=4 * hidden_n_channels,\n",
        "                      out_channels=8 * hidden_n_channels,\n",
        "                      kernel_size=4,\n",
        "                      stride=1,\n",
        "                      padding=1,\n",
        "                      ),\n",
        "            # shape: bc * 8hc * 31 * 31\n",
        "            nn.InstanceNorm2d(8 * hidden_n_channels),\n",
        "            nn.LeakyReLU(0.2, inplace=True),\n",
        "\n",
        "            nn.Conv2d(in_channels=8 * hidden_n_channels,\n",
        "                      out_channels=1,\n",
        "                      kernel_size=4,\n",
        "                      stride=1,\n",
        "                      padding=1,\n",
        "                      )\n",
        "            # shape: bc * 1 * 30 * 30\n",
        "\n",
        "        ])\n",
        "\n",
        "    def forward(self, x: torch.Tensor):\n",
        "        output = self.main(x)\n",
        "        # output = self.flattener(output)\n",
        "        # output = self.fc(output)\n",
        "        # Apply sigmoid activation to the discriminator output then pass it to Cross entropy or MSE loss\n",
        "        output = self.sigmoid(output)\n",
        "        return output\n",
        "\n",
        "\n",
        "def test_discriminator() -> None:\n",
        "    x = torch.rand(2, 3, 256, 256)\n",
        "    discriminator = Discriminator(3, 64)\n",
        "    output = discriminator(x)\n",
        "    print(\"Output shape:\", output.shape)\n",
        "    return None\n",
        "\n",
        "\n",
        "if __name__ == \"__main__\":\n",
        "    test_discriminator()\n"
      ]
    },
    {
      "cell_type": "code",
      "source": [],
      "metadata": {
        "id": "iiUhLyRN8-K9"
      },
      "execution_count": null,
      "outputs": []
    }
  ]
}